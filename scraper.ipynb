{
 "metadata": {
  "language_info": {
   "codemirror_mode": {
    "name": "ipython",
    "version": 3
   },
   "file_extension": ".py",
   "mimetype": "text/x-python",
   "name": "python",
   "nbconvert_exporter": "python",
   "pygments_lexer": "ipython3",
   "version": "3.8.8-final"
  },
  "orig_nbformat": 2,
  "kernelspec": {
   "name": "python38864bit388pyenv6e0dd8c907e74142b8d96ceab1da1a28",
   "display_name": "Python 3.8.8 64-bit ('3.8.8': pyenv)"
  }
 },
 "nbformat": 4,
 "nbformat_minor": 2,
 "cells": [
  {
   "cell_type": "code",
   "execution_count": 2,
   "metadata": {
    "tags": []
   },
   "outputs": [],
   "source": [
    "from snscrape.modules.twitter import TwitterThreadScraper"
   ]
  },
  {
   "cell_type": "code",
   "execution_count": 4,
   "metadata": {},
   "outputs": [],
   "source": [
    "from textblob import TextBlob\n",
    "\n",
    "def clean(tweet): \n",
    "    ''' \n",
    "    Utility function to clean tweet text by removing links, special characters \n",
    "    using simple regex statements. \n",
    "    '''\n",
    "    return ' '.join(re.sub(\"(@[A-Za-z0-9]+)|([^0-9A-Za-z \\t]) |(\\w+:\\/\\/\\S+)\", \" \", tweet).split()) \n",
    "\n",
    "def senti(tweet): \n",
    "    ''' \n",
    "    Utility function to classify sentiment of passed tweet \n",
    "    using textblob's sentiment method \n",
    "    '''\n",
    "    # create TextBlob object of passed tweet text \n",
    "    analysis = TextBlob(clean_tweet(tweet)) \n",
    "    # set sentiment \n",
    "    return analysis.sentiment.polarity"
   ]
  },
  {
   "cell_type": "code",
   "execution_count": null,
   "metadata": {},
   "outputs": [],
   "source": [
    "Twit"
   ]
  },
  {
   "cell_type": "code",
   "execution_count": 19,
   "metadata": {
    "tags": []
   },
   "outputs": [
    {
     "output_type": "execute_result",
     "data": {
      "text/plain": "[Tweet(url='https://twitter.com/jack/status/1365083296414113792', date=datetime.datetime(2021, 2, 25, 23, 36, 34, tzinfo=datetime.timezone.utc), content='Bitcoin, Blockchain and the Black Community - CoinDesk https://t.co/3KH6W7Rg0Q', id=1365083296414113792, username='jack', outlinks=['https://www.coindesk.com/tv/community-crypto/community-crypto-feb-25-2021-20210223'], outlinksss='https://www.coindesk.com/tv/community-crypto/community-crypto-feb-25-2021-20210223', tcooutlinks=['https://t.co/3KH6W7Rg0Q'], tcooutlinksss='https://t.co/3KH6W7Rg0Q'),\n Tweet(url='https://twitter.com/jack/status/1364436892297564160', date=datetime.datetime(2021, 2, 24, 4, 47, 59, tzinfo=datetime.timezone.utc), content='@hfangca @OKCoin @opencryptoorg Thank you for joining!', id=1364436892297564160, username='jack', outlinks=[], outlinksss='', tcooutlinks=[], tcooutlinksss=''),\n Tweet(url='https://twitter.com/jack/status/1364262123417726976', date=datetime.datetime(2021, 2, 23, 17, 13, 31, tzinfo=datetime.timezone.utc), content='@bitcoinbrink 🙏🏼', id=1364262123417726976, username='jack', outlinks=[], outlinksss='', tcooutlinks=[], tcooutlinksss=''),\n Tweet(url='https://twitter.com/jack/status/1362941891226988546', date=datetime.datetime(2021, 2, 20, 1, 47, 23, tzinfo=datetime.timezone.utc), content='Over 6,600 people submitted their proof-of-work so far. Working to narrow over weekend and will start interviewing board candidates soon.', id=1362941891226988546, username='jack', outlinks=[], outlinksss='', tcooutlinks=[], tcooutlinksss=''),\n Tweet(url='https://twitter.com/jack/status/1362863173062197248', date=datetime.datetime(2021, 2, 19, 20, 34, 35, tzinfo=datetime.timezone.utc), content='This is excellent 🧡 https://t.co/e7ywpoCcxS', id=1362863173062197248, username='jack', outlinks=['https://twitter.com/hello_bitcoin/status/1362843490648879105'], outlinksss='https://twitter.com/hello_bitcoin/status/1362843490648879105', tcooutlinks=['https://t.co/e7ywpoCcxS'], tcooutlinksss='https://t.co/e7ywpoCcxS'),\n Tweet(url='https://twitter.com/jack/status/1361884996781309953', date=datetime.datetime(2021, 2, 17, 3, 47, 40, tzinfo=datetime.timezone.utc), content='learned the most from https://t.co/GrUoCXanNL and https://t.co/cz3yYo4UEw', id=1361884996781309953, username='jack', outlinks=['http://cr.yp.to', 'https://bitcoin.org/bitcoin.pdf'], outlinksss='http://cr.yp.to https://bitcoin.org/bitcoin.pdf', tcooutlinks=['https://t.co/GrUoCXanNL', 'https://t.co/cz3yYo4UEw'], tcooutlinksss='https://t.co/GrUoCXanNL https://t.co/cz3yYo4UEw'),\n Tweet(url='https://twitter.com/jack/status/1360720695337000962', date=datetime.datetime(2021, 2, 13, 22, 41, 9, tzinfo=datetime.timezone.utc), content='Great conversation w \\u2066@bigmarh\\u2069  https://t.co/fJyPkexZOk', id=1360720695337000962, username='jack', outlinks=['https://podcasts.apple.com/us/podcast/tales-from-the-crypt-a-bitcoin-podcast/id1292381204?i=1000508743883'], outlinksss='https://podcasts.apple.com/us/podcast/tales-from-the-crypt-a-bitcoin-podcast/id1292381204?i=1000508743883', tcooutlinks=['https://t.co/fJyPkexZOk'], tcooutlinksss='https://t.co/fJyPkexZOk'),\n Tweet(url='https://twitter.com/jack/status/1360114881978982403', date=datetime.datetime(2021, 2, 12, 6, 33, 52, tzinfo=datetime.timezone.utc), content='JAY-Z/@S_C_ and I are giving 500 BTC to a new endowment named ₿trust to fund #Bitcoin development, initially focused on teams in Africa &amp; India. It‘ll be set up as a blind irrevocable trust, taking zero direction from us. We need 3 board members to start: https://t.co/L4mRBryMJe', id=1360114881978982403, username='jack', outlinks=['https://forms.gle/hnWDQcbtijWxyK55A'], outlinksss='https://forms.gle/hnWDQcbtijWxyK55A', tcooutlinks=['https://t.co/L4mRBryMJe'], tcooutlinksss='https://t.co/L4mRBryMJe'),\n Tweet(url='https://twitter.com/jack/status/1360109997242216450', date=datetime.datetime(2021, 2, 12, 6, 14, 27, tzinfo=datetime.timezone.utc), content='🧡 https://t.co/Q24tuuzOm3', id=1360109997242216450, username='jack', outlinks=['https://twitter.com/FrancisSuarez/status/1360069847971954690'], outlinksss='https://twitter.com/FrancisSuarez/status/1360069847971954690', tcooutlinks=['https://t.co/Q24tuuzOm3'], tcooutlinksss='https://t.co/Q24tuuzOm3')]"
     },
     "metadata": {},
     "execution_count": 19
    }
   ],
   "source": [
    "func = TwitterUserScraper\n",
    "query = 'jack'\n",
    "\n",
    "gen = func(query).get_items()\n",
    "\n",
    "tweets = [\n",
    "    next(\n",
    "        gen\n",
    "    ) for i in range(9)\n",
    "]\n",
    "tweets"
   ]
  },
  {
   "cell_type": "code",
   "execution_count": 20,
   "metadata": {},
   "outputs": [
    {
     "output_type": "execute_result",
     "data": {
      "text/plain": "[{'url': 'https://twitter.com/jack/status/1365083296414113792',\n  'date': datetime.datetime(2021, 2, 25, 23, 36, 34, tzinfo=datetime.timezone.utc),\n  'content': 'Bitcoin, Blockchain and the Black Community - CoinDesk https://t.co/3KH6W7Rg0Q',\n  'id': 1365083296414113792,\n  'username': 'jack',\n  'outlinks': ['https://www.coindesk.com/tv/community-crypto/community-crypto-feb-25-2021-20210223'],\n  'outlinksss': 'https://www.coindesk.com/tv/community-crypto/community-crypto-feb-25-2021-20210223',\n  'tcooutlinks': ['https://t.co/3KH6W7Rg0Q'],\n  'tcooutlinksss': 'https://t.co/3KH6W7Rg0Q'},\n {'url': 'https://twitter.com/jack/status/1364436892297564160',\n  'date': datetime.datetime(2021, 2, 24, 4, 47, 59, tzinfo=datetime.timezone.utc),\n  'content': '@hfangca @OKCoin @opencryptoorg Thank you for joining!',\n  'id': 1364436892297564160,\n  'username': 'jack',\n  'outlinks': [],\n  'outlinksss': '',\n  'tcooutlinks': [],\n  'tcooutlinksss': ''},\n {'url': 'https://twitter.com/jack/status/1364262123417726976',\n  'date': datetime.datetime(2021, 2, 23, 17, 13, 31, tzinfo=datetime.timezone.utc),\n  'content': '@bitcoinbrink 🙏🏼',\n  'id': 1364262123417726976,\n  'username': 'jack',\n  'outlinks': [],\n  'outlinksss': '',\n  'tcooutlinks': [],\n  'tcooutlinksss': ''},\n {'url': 'https://twitter.com/jack/status/1362941891226988546',\n  'date': datetime.datetime(2021, 2, 20, 1, 47, 23, tzinfo=datetime.timezone.utc),\n  'content': 'Over 6,600 people submitted their proof-of-work so far. Working to narrow over weekend and will start interviewing board candidates soon.',\n  'id': 1362941891226988546,\n  'username': 'jack',\n  'outlinks': [],\n  'outlinksss': '',\n  'tcooutlinks': [],\n  'tcooutlinksss': ''},\n {'url': 'https://twitter.com/jack/status/1362863173062197248',\n  'date': datetime.datetime(2021, 2, 19, 20, 34, 35, tzinfo=datetime.timezone.utc),\n  'content': 'This is excellent 🧡 https://t.co/e7ywpoCcxS',\n  'id': 1362863173062197248,\n  'username': 'jack',\n  'outlinks': ['https://twitter.com/hello_bitcoin/status/1362843490648879105'],\n  'outlinksss': 'https://twitter.com/hello_bitcoin/status/1362843490648879105',\n  'tcooutlinks': ['https://t.co/e7ywpoCcxS'],\n  'tcooutlinksss': 'https://t.co/e7ywpoCcxS'},\n {'url': 'https://twitter.com/jack/status/1361884996781309953',\n  'date': datetime.datetime(2021, 2, 17, 3, 47, 40, tzinfo=datetime.timezone.utc),\n  'content': 'learned the most from https://t.co/GrUoCXanNL and https://t.co/cz3yYo4UEw',\n  'id': 1361884996781309953,\n  'username': 'jack',\n  'outlinks': ['http://cr.yp.to', 'https://bitcoin.org/bitcoin.pdf'],\n  'outlinksss': 'http://cr.yp.to https://bitcoin.org/bitcoin.pdf',\n  'tcooutlinks': ['https://t.co/GrUoCXanNL', 'https://t.co/cz3yYo4UEw'],\n  'tcooutlinksss': 'https://t.co/GrUoCXanNL https://t.co/cz3yYo4UEw'},\n {'url': 'https://twitter.com/jack/status/1360720695337000962',\n  'date': datetime.datetime(2021, 2, 13, 22, 41, 9, tzinfo=datetime.timezone.utc),\n  'content': 'Great conversation w \\u2066@bigmarh\\u2069  https://t.co/fJyPkexZOk',\n  'id': 1360720695337000962,\n  'username': 'jack',\n  'outlinks': ['https://podcasts.apple.com/us/podcast/tales-from-the-crypt-a-bitcoin-podcast/id1292381204?i=1000508743883'],\n  'outlinksss': 'https://podcasts.apple.com/us/podcast/tales-from-the-crypt-a-bitcoin-podcast/id1292381204?i=1000508743883',\n  'tcooutlinks': ['https://t.co/fJyPkexZOk'],\n  'tcooutlinksss': 'https://t.co/fJyPkexZOk'},\n {'url': 'https://twitter.com/jack/status/1360114881978982403',\n  'date': datetime.datetime(2021, 2, 12, 6, 33, 52, tzinfo=datetime.timezone.utc),\n  'content': 'JAY-Z/@S_C_ and I are giving 500 BTC to a new endowment named ₿trust to fund #Bitcoin development, initially focused on teams in Africa &amp; India. It‘ll be set up as a blind irrevocable trust, taking zero direction from us. We need 3 board members to start: https://t.co/L4mRBryMJe',\n  'id': 1360114881978982403,\n  'username': 'jack',\n  'outlinks': ['https://forms.gle/hnWDQcbtijWxyK55A'],\n  'outlinksss': 'https://forms.gle/hnWDQcbtijWxyK55A',\n  'tcooutlinks': ['https://t.co/L4mRBryMJe'],\n  'tcooutlinksss': 'https://t.co/L4mRBryMJe'},\n {'url': 'https://twitter.com/jack/status/1360109997242216450',\n  'date': datetime.datetime(2021, 2, 12, 6, 14, 27, tzinfo=datetime.timezone.utc),\n  'content': '🧡 https://t.co/Q24tuuzOm3',\n  'id': 1360109997242216450,\n  'username': 'jack',\n  'outlinks': ['https://twitter.com/FrancisSuarez/status/1360069847971954690'],\n  'outlinksss': 'https://twitter.com/FrancisSuarez/status/1360069847971954690',\n  'tcooutlinks': ['https://t.co/Q24tuuzOm3'],\n  'tcooutlinksss': 'https://t.co/Q24tuuzOm3'}]"
     },
     "metadata": {},
     "execution_count": 20
    }
   ],
   "source": [
    "keys = 'url date content id username outlinks outlinksss tcooutlinks tcooutlinksss'.split()\n",
    "t = tweets[0]\n",
    "\n",
    "[\n",
    "    dict(zip(keys, list(t)))\n",
    "    for t in tweets\n",
    "]"
   ]
  },
  {
   "cell_type": "code",
   "execution_count": 5,
   "metadata": {},
   "outputs": [
    {
     "output_type": "execute_result",
     "data": {
      "text/plain": "['VIDEO Why Elon Musk Accelerated Tesla Semi Truck Production #TSLA #Semi #trucking #logistics #OTR #18wheeler #semitruck #logistics #supplychain #gigafactory #lithium #battery #transportation #hauling #strategy',\n '_usa Make EV Thanks #ev #tsla #bolt #dogecoin #doge #subaru',\n 'I never miss opportunities! #forex #money #job #business #jobs #news #fx #stocks #trading #casino #investing #markets #poker #fintech #trade #Banking #gold #investment #marketing #market #blockchain #invest #StockMarket #Finance #elonmusk #SpaceX #tesla #tsla #altcoins',\n 'Anyone else concerned about this Or does Europe no longer matter? $TSLA #tslaq #tsla #BTC',\n 'Great wins on a great day! #BTC #Bitcoin #Crypto #Cryptocurrency #Pi #PiNetwork #BlockChain #Forex #Fx #Trading #StockMarket #Stocks #SP500 #DayTrading #CedarForex #CedarFX #Trader #XRP #ETH #Robinhood #WeBull #CashApp #Investor #investment #Tsla #tesla $Tsla',\n 'There is a great opportunity here use it! #AAPL #MSFT #AMZN #GOOGL #TCEHY #FB #BABA #TSLA #TSM #JPM #JNJ #WMT #DIS #NVDA #SPY #PG #UNH #PYPL #BAC #NFLX #XOM #MA #TOT #RTX #GOLD #SILVER #USD #EURO',\n 'great opportunity for everyone! #FAANG #AAPL #MSFT #AMZN #FB #GOOG #TSLA #NVDA #NFLX #BABA #Apple #Microsoft #Amazon #Facebook #Alphabet #Tesla #NVIDIA #Netflix #Alibaba',\n '#TSLA $Doge Early Retirement',\n 'About 15 of the world GDP created by US consumer What will Americans will buy first in next 6 month Except houses almost everything will effect international trades Who will supply the American upcoming spending tsunami #TSLA #Gold #inflation']"
     },
     "metadata": {},
     "execution_count": 5
    }
   ],
   "source": [
    "contents = [\n",
    "    clean(t.content)\n",
    "    for t in tweets\n",
    "]\n",
    "contents"
   ]
  },
  {
   "cell_type": "code",
   "execution_count": null,
   "metadata": {},
   "outputs": [],
   "source": []
  }
 ]
}