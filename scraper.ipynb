{
 "metadata": {
  "language_info": {
   "codemirror_mode": {
    "name": "ipython",
    "version": 3
   },
   "file_extension": ".py",
   "mimetype": "text/x-python",
   "name": "python",
   "nbconvert_exporter": "python",
   "pygments_lexer": "ipython3",
   "version": "3.8.8-final"
  },
  "orig_nbformat": 2,
  "kernelspec": {
   "name": "python38864bitf7ea053dc3fb4e098c7b685f10305d24",
   "display_name": "Python 3.8.8 64-bit"
  }
 },
 "nbformat": 4,
 "nbformat_minor": 2,
 "cells": [
  {
   "cell_type": "code",
   "execution_count": 2,
   "metadata": {
    "tags": []
   },
   "outputs": [],
   "source": [
    "from snscrape.modules.twitter import *\n",
    "\n",
    "import pandas as pd\n",
    "import numpy as np\n",
    "\n",
    "from sklearn.feature_extraction.text import CountVectorizer\n",
    "from sklearn.model_selection import train_test_split\n",
    "from sklearn.naive_bayes import MultinomialNB\n",
    "from sklearn.metrics import classification_report\n",
    "\n",
    "from nltk import word_tokenize\n"
   ]
  },
  {
   "cell_type": "code",
   "execution_count": 10,
   "metadata": {},
   "outputs": [],
   "source": [
    "def clean(tweet): \n",
    "    ''' \n",
    "    Utility function to clean tweet text by removing links, special characters \n",
    "    using simple regex statements. \n",
    "    '''\n",
    "    return ' '.join(re.sub(\"(@[A-Za-z0-9]+)|([^0-9A-Za-z \\t]) |(\\w+:\\/\\/\\S+)\", \" \", tweet).split())"
   ]
  },
  {
   "cell_type": "code",
   "execution_count": 21,
   "metadata": {
    "tags": []
   },
   "outputs": [],
   "source": [
    "scrape = TwitterSearchScraper\n",
    "query = 'gme'\n",
    "\n",
    "gen = scrape(query + ' lang:en').get_items()\n",
    "\n",
    "tweets = [\n",
    "    next(\n",
    "        gen\n",
    "    ) for i in range(99)\n",
    "]"
   ]
  },
  {
   "cell_type": "code",
   "execution_count": null,
   "metadata": {},
   "outputs": [],
   "source": [
    "keys = 'url date content id username outlinks outlinksss tcooutlinks tcooutlinksss'.split()\n",
    "\n",
    "[\n",
    "    dict(zip(keys, list(t)))\n",
    "    for t in tweets\n",
    "]"
   ]
  },
  {
   "cell_type": "code",
   "execution_count": 22,
   "metadata": {},
   "outputs": [
    {
     "output_type": "execute_result",
     "data": {
      "text/plain": "['@maggieNYT Made $30k last week on $GME, so I’m giving away $100 to anyone who follows and retweets, first 20 DM’s',\n '@novogratz Made $30k last week on $GME, so I’m giving away $100 to anyone who follows and retweets, first 20 DM’s',\n '$SPONF Displaying Bullish Technicals Once Again. Could We See Another Triple-Digit Move! Upgraded To Strong Buy!\\n\\n$btc $eth $zm $beam $abnb $nkla $tlry $cgc $amc $bb $nok $gme $koss $grub $uber $lyft $dash $tsla $nio $hd $penn #ddtg #wallstreetbets $shop\\n\\nhttps://t.co/qMQxstZ4M7 https://t.co/JdB5VA9Tz6',\n 'Who is ready for tomorrow-Squeeze? 🍋 $gme $amc',\n '@DustinLucaSN Was it $GME or $WMT 🚀 🌝?',\n \"Top 5 Highest Priced Stocks In America https://t.co/wnAMHuKf7K via @investopedia anyone think GME stock is the same platue of these 5 co.? You are delusionsional. 320K Buffet's #1 the next #2 is 4k per share. Don't expect 100K for GME Don't be delusional and be smart. @jimcramer\",\n 'The best part about #GME and #AMC is that if you were on the fence about FAKE NEWS now you KNOW who has been bought out. All of the news. \\n\\nIf apes can come together to buy one stock. We can come together to all vote independent indefinitely',\n \"Gamestop added GPU's to their site.\\n\\nLONG ON $GME\",\n '@QBKlass Buying you over GME today',\n 'ACCOMPLISH THE MISSION. WE WILL THE HF’s RAIN FOR ALL THE CLOUDY DAYS. $GME https://t.co/BT9FucLC5I',\n 'Freetrade is listing #cbx with no commission. Get started with a free share worth £3-£200.\\n#cellulargoods #CBX #GME #AME  https://t.co/VLxqZ3St58',\n '$GME Gamestop really needs to issue some shares to raise cash for its future visions.',\n '@CNBC which analyst said GME would never see $100 again, it went to $200!',\n 'I worked with a pal to make Stonks for #WowieJam3 this weekend! Use your overpowered AI assistant to try to nosedive GME stock into the ground, or your job (and possibly life) is forfeit! https://t.co/w9YYEzfoyt #gamedev #indiegame #gamejam #gamedesign #gaming',\n 'The free indicator in this video is so incredibly important this wk—it’ll show you without bias where growth stocks are most likely headed — hope it helps!! https://t.co/pU1ANOgzc6 $GME $FUBO $TWLO $BFLY $CCIV $AMZN $WKHS $BC #Bitcoin $TSLA $MARA https://t.co/yUxcagVb8o',\n '@TheChartist7 @dougboneparth Obviously you need $GME\\n\\nthese are brilliant I think you should do all bubbles. Ene, whom, tsla...',\n \"Who's ready for tomorrow? Hopefully we see more green this week. What stocks are you excited about? \\n\\n$ZOM $SNDL $GME $TLRY $APHA $TSLA $PLTR $AMC $BB $CRSP $AAPL $DIS $HYLN $OCGN $SPCE $AMD $MVIS $NIO $ZOM $WISH $NOK $AMZN $NVDA $DKNG $DOGE $BTC $CCIV https://t.co/F0j9Z5lpE9\",\n \"@notoriousalerts But hold that line on $clov, $lotz? Lol bunch pump&amp;dump hypocrrrrittttt\\n\\nI'm not in gme fyi or clov or lotz. Feel sorry for the herd\",\n '&lt;Current Weather&gt;\\nDallas\\nTemperature: 61.75°F/ Status: clouds\\n👉https://t.co/PAZ9pQEr7t #amazon👈\\n💯👉Auto Follower👈💯\\n💯👉#自動相互フォロー👈💯\\n\\n#TFW\\n#Chelsea #vs #Man #United\\n#LeVar #Burton\\n#Nets\\n#followtrick\\n#gme\\n#相互リツイート\\n#xrp\\n#btc\\n#TFW\\n#固定RT\\n#do https://t.co/zvAm0o8LgE',\n '@TheRoaringKitty $GME tomorrow https://t.co/zgCg7Zbje8',\n \"@9PequenaMuerte It's going down! :-)\",\n 'Refueling the rocket. Waiting.\\n#GME. #ToFuckinMoon. Tomorrow. https://t.co/1Elcn5slpZ',\n '@nut_ufo @TheCryptoLark Made $30k last week on $GME, so I’m giving away $100 to anyone who follows and retweets, first 20 DM’s',\n '@JanNWolfe @maggieNYT Made $30k last week on $GME, so I’m giving away $100 to anyone who follows and retweets, first 20 DM’s',\n \"Hey #UncleBruce you are getting #reddit famous this is one of many posts I see them quoting I've been sharing @travellingwith1 and @AndrewMoMoney stream as much as I could and now they are steadily being brought up on posts this is incredible #GME \\nhttps://t.co/XN6PP7EHz9\",\n '@binance Made $30k last week on $GME, so I’m giving away $100 to anyone who follows and retweets, first 20 DM’s',\n '@tommyinnit @charlidamelio Made $30k last week on $GME, so I’m giving away $100 to anyone who follows and retweets, first 20 DM’s',\n '@disclosetv Made $30k last week on $GME, so I’m giving away $100 to anyone who follows and retweets, first 20 DM’s',\n '@jessemckinley @NYGovCuomo Made $30k last week on $GME, so I’m giving away $100 to anyone who follows and retweets, first 20 DM’s',\n 'GME’s Second Explosive Run Explained: The After Hours Edition https://t.co/VIpj6Sew0u',\n '@ktumulty @maggieNYT Made $30k last week on $GME, so I’m giving away $100 to anyone who follows and retweets, first 20 DM’s',\n '$TRCH Merger with META 3/12. No debt and dividend. Survived Atlas Pump and Dump AND market correction. \\n\\n$VERB “Technology is integrated into popular ERP, CRM, and marketing platforms including Oracle, Adobe, and integrations into Microsoft, among others.” \\n\\n$GME $AMC $NAKD OFC💪 https://t.co/haca84Tc0X',\n '@russian_market Made $30k last week on $GME, so I’m giving away $100 to anyone who follows and retweets, first 20 DM’s',\n '@ShaneGoldmacher Made $30k last week on $GME, so I’m giving away $100 to anyone who follows and retweets, first 20 DM’s',\n '@maggieNYT Made $30k last week on $GME, so I’m giving away $100 to anyone who follows and retweets, first 20 DM’s',\n '@CNN Made $30k last week on $GME, so I’m giving away $100 to anyone who follows and retweets, first 20 DM’s',\n '$GME Pump up the volume! https://t.co/czS8zoUWVq',\n '@CGasparino The letter RC wrote to the GME Board is publicly available for you to read. That’s why a lot of people jumped on this stock for the long haul. Not financial advice but the market is primed for their pivot ideas &amp; RC can retire wealthy for his part in leveling the playing field 🤷🏻\\u200d♂️',\n 'Tickers with the most bearish news sentiment for 2021-02-28 as of 18:00:03 EST \\n$MCD $FB $FUBO $GME $ABNB $PTON $DKNG $TSLA $ETSY $XPEV $LI $DASH $EH https://t.co/viisltoXfK',\n '$DOCU Another name bounced off major support zone. Hold above 220, room to test 230, 237+. Break below 220, downside room to 216, 208\\n\\n$SPY $QQQ $IWM $VXX $AMZN $TSLA $GME $RIOT https://t.co/mb96ppdFOd',\n '@deepvaluepubs Lol in for a rude awakening',\n 'One more post out of many supporting GME is worth 100k per share. Please set the bar high if you are a true ape! #GME100k \\n\\n#GME $GME #GMEtothemoon #GMEGANG #Stocksbuynow',\n '$GME - Above 100 - Trade Idea - March 5 150C - bid/ask: 14.80/15.50\\n\\nClosed at 101.74\\n\\nFor this week, it would be best to see GME defend 85, otherwise it can pull back to 77,67,60\\n\\nGME above 159 should test 200, 226, 237\\n-\\n$AAPL $AMD $PLTR $BA $BABA $BYND $CCIV $FB $MSFT $SPY https://t.co/9jVNP5UIJg',\n 'Throw in that gaming in general has been moving towards PC as every kid is now on twitch watching their favorite streamer or E-Sports athlete play on PC, and this is incredibly bullish long term for $GME',\n '$NIO - Earnings Trade Idea - March 5 38P - bid/ask: .83/.94\\n\\nClosed at 45.78\\n\\nReports earnings on Monday after hours\\n\\nThere is a 7-8 point move priced in for this week \\n-\\n$AAPL $AMD $AMZN $BA $BABA $BYND $FB $MSFT $NFLX $GME $NVDA $PLTR $ROKU $SNAP $SPCE $SPX $SPY $SQ $TSLA $ZM https://t.co/0ITkmYGtCu',\n 'Another post on reddit agreeing GME is worth 69420-100k and over. I once again urge people to tweet #GME100k \\n\\nhttps://t.co/oOiBu0PRSg\\n\\n$GME #GMEStock #GME #GMEtothemoon #GMEGANG',\n \"@MrBilllions Sign up for an additional stock account ata another brokerage so you don't get stuck with Robinhood.  Webull has pre and after market trading without a gold account!  Sign up link below,  get your first stock free!\\n\\n#AMC #gme #trch #doge \\n https://t.co/5cQLzMefeX\",\n '$ZM - Earnings Trade Idea - March 5 425C - bid/ask: 7.00/8.10\\n\\nClosed at 373.61\\n\\nReports earnings on Monday after hours\\n\\nThere is a 50 pt move priced in for this week \\n-\\n$AAPL $AMD $AMZN $BA $BABA $BYND $CCIV $FB $MSFT $NFLX $GME $NVDA $PLTR $ROKU $SNAP $SPCE $SPX $SPY $SQ $TSLA https://t.co/lmdG9wFmrX',\n '@CNN Made $30k last week on $GME, so I’m giving away $100 to anyone who follows and retweets, first 20 DM’s',\n '@Uber Made $30k last week on $GME, so I’m giving away $100 to anyone who follows and retweets, first 20 DM’s',\n '$GME mooning Monday! Watch $AMC too!!',\n 'GameStop is officially selling graphics cards now, confirming that they are moving into the PC gaming space which was one of the things Ryan Cohen promised when he first came on board!  For those of us who were long $GME before the pump started, this is huge 🚀🚀 https://t.co/buPqbTaksI',\n '@thebettorburner People go where the money and hype is at the end of the day. And if NBA Top Shop is the new GME/digital currency/Social media experiment craze. As long as theyre folks inflating the importance and hype the money will continue to flow in.',\n 'AOGME is the only professional membership focused on supporting and advancing osteopathic GME.\\n\\nLearn more about why you should join AOGME today!',\n '$fubo $lazr $amc $gevo $gme $mara $nxtd $sndl $clov        $bngo $nok $riot $kodk $cciv $nakd $sos $btbt         \\n       \\nWE ALERTED $JAGX at $.30 RAN TO $3 (900% GAIN!!)         \\n         \\nDaily Alerts\\n    \\n$15 ONE TIME FEE\\n \\nBEAT THAT     \\n👇👇\\n🚨LINK IN BIO🚨',\n '@MilleniumY2K honestly in his defense, i think the lack of social awareness is kind of intentionally used as a justification for his actions, which is why the backstory of his entire life had to be longer than the actual relevant info',\n 'I support #GME100k per share and so does reddit. If you own GME set your limit sell to 69420-100k or higher. \\nThis is the way apes💎💎💎🦍🦍🦍🚀🚀🚀\\n\\n$GME #GMEtothemoon #GMEstock \\n\\nhttps://t.co/idWdAhTYfx',\n 'GME to the moon boys #notfinancialadvice',\n '@DOMOCAPITAL @CGasparino @ryancohen Plus #gme has goodwill value waiting to be converted. #gme goodwill value vaulted it above micro cap status even though it traded below $300M MC',\n '@AOC Made $30k last week on $GME, so I’m giving away $100 to anyone who follows and retweets, first 20 DM’s',\n 'I’m buying Bitcoin and gme calls I’ll have 50 million at 25 https://t.co/au5XlBuxEI',\n '@KEEMSTAR Made $30k last week on $GME, so I’m giving away $100 to anyone who follows and retweets, first 20 DM’s',\n '@DiamondHandsalways @Assafbdbd sure small fry. I’m short AMC at the moment. It’s done for now. Made a killing twice AMC and GME',\n '@maggieNYT Made $30k last week on $GME, so I’m giving away $100 to anyone who follows and retweets, first 20 DM’s',\n '@girlgone_crypto Made $30k last week on $GME, so I’m giving away $100 to anyone who follows and retweets, first 20 DM’s',\n '@maggieNYT @jessemckinley Made $30k last week on $GME, so I’m giving away $100 to anyone who follows and retweets, first 20 DM’s',\n '@girlgone_crypto Made $30k last week on $GME, so I’m giving away $100 to anyone who follows and retweets, first 20 DM’s',\n '@Bencjacobs Made $30k last week on $GME, so I’m giving away $100 to anyone who follows and retweets, first 20 DM’s',\n '@maggieNYT Made $30k last week on $GME, so I’m giving away $100 to anyone who follows and retweets, first 20 DM’s',\n '@disclosetv Made $30k last week on $GME, so I’m giving away $100 to anyone who follows and retweets, first 20 DM’s',\n \"@Onemoretrade1 @EsportsEnigmist @wallstmemes @GameStop @JeffBezos @ryancohen @Chewy @amazon You went from calling it spare parts to it's not a bad long term investment.\\n\\nYou're becoming a believer in the brand because it's interesting to you.\\n\\nit's not a bad thing to be supportive of $GME. if you're a good person, its a good perspective to have.\\n\\nare you a good person?\",\n 'Same type of people who said $60k $btc and $2500 $eth by end of February are telling you that $gme is going to $800 tomorrow. #sameenergy #wallstreetsbets',\n 'THE FUTURE IS NOT SET! THERE IS NO FATE BUT WHAT WE MAKE FOR OURSELVES! $AMC &amp; $GME 💎👐🔥🔥🔥 https://t.co/FCdq4KJGf2',\n \"$SOS What's everyone holding til? I was going to take some profit at 13$, but now I'm motivated to hold to 20$ just out of righteousness... 🚀\\n\\n$AMC $GME $DOGE #shortsqueeze\",\n '@CGasparino @reddit It looks like its about as effective as the shorts DD on why they shorted GME.. look how that worked out for them.',\n 'We have created for you a Dashboard So You Can Spot the Most Trending Stocks &amp; Cryptos in Reddit/Twitter/StockTwits/Google\\nCheck out https://t.co/VaWgphgbDg! \\n#GME #PLTR #AMC #WSB #BB #Bitcoin #wallstreetbets @jimcramer',\n 'Ohh GME look another post saying 100k per share $GME #GME100k &lt;&lt; this is very real\\n\\nhttps://t.co/xeWUeStwuC',\n '@FRANKPFLORIDA @Ultra_Calls @MrZackMorris Agree everyone is so jittery someone dumps $spy panic sell by most then buy the dip ... then repeat  so plan when markets choppy all in $gme 😂😂',\n 'https://t.co/LMmc5g7MxX\\n\\nGME 100k per share is not a meme baby #GME100k #GME #GMEstock #GMEtothemoon #GMEGANG #stocks',\n '@TalkingStonks @handsomephil5 @TradesTrey @TheRoaringKitty I’m already done with @RobinhoodApp @vladtenev . I have some #DOGE with them but as soon as it drops below my average i’m selling and moving it out. I use @etrade for stonks $AMC $GME etc. and Uphold app and #CoinbasePro for #Crypto #Dogecoins',\n 'As soon as $gme breaks $10k/share, ppl will know this is for real and the retail availability will dry up FAST under 100k—hell, it’s a trickle NOW. They’ll have to buy at that price. #holdtheline #diamondhands',\n '@terrycrews $GME 💎\\n(Kidding, I have no GME)',\n '$SOS this will be an epic squeeze like $GME and $AMC. I was in both and plenty of cash to buy the Ask and push up faster than shorts can handle. Who is with me? https://t.co/wAsPlckBBU',\n 'I have a good feeling about the timing of these stimulus checks hitting bank accts and the #GME #AMC push. Should be an interesting dynamic',\n 'GME is worth 100k per share. Read this reddit post #GME100k $GME\\n\\nhttps://t.co/48W67RWQet\\n\\n#GME #GMEtothemoon #GMEStock',\n 'I like the stonks #gme',\n 'Follow @BullGangTrading \\n@BullGangTrading \\n\"Buy the dip\"\\n\\nLike , retweet \\n\\n#gamestop #gme #bb #blackberry #dividends #dividendincome #trendingmemes #edgymemes #stonkmemes #wallstbets #wallstreetbets #dividends #dogecoin #dogememes #dogetothemoon https://t.co/OeYu8ZudTR',\n 'I\\'m sure this post on @reddit about $GME was a joke @CGasparino. The problem is that when people call $GME a \"mall based retailer\" it means they have done about as much due diligence on $GME as that cat. https://t.co/BQ6IxNTtLh',\n \"Don't listen to anyone who tells you AMC isn't worth s--t. It is AMC has the ability to become a trillion dollar company. I am bullish on AMC also. I'm bullish on GME and that's worth 100k per share. AMC is def worth 10k.\\n\\nDon't fall for the bots/hedgies on twitter $AMC #AMC10k\",\n \"@LeeDiddy It's fun to speculate, I get that. But there are other ways that carry this level of unimaginable harm with them. Short the VIX, take out a butterfly spread against $GME. And if it has to be cryptocurrencies, there are a few alternatives to proof-of-work.\",\n '(11) (not religious just an expression). I’ll see you all in Andromeda (galaxy far away because this is going intergalactic). $GME $AMC #GameStop #AMC #AMCtothemoon #amcstock #gamestonk #shortsqueeze',\n '(3) expiration. Set longer expirations for your calls/puts so you can sell whenever you feel like paying yourself and buy the shares to support the cause.\\nGME being a meme is not a bad thing. In fact, it’s why we can do this. You don’t need an over complicated strategy to profit',\n '(2) media and upcoming stimulus. GME is a meme stock, meaning it does not function like other stocks. Therefore, it has high IV and is constantly in a state of IV Crush. This means if you buy options, it doesn’t matter what your strike price is. All that matters is the',\n '🚀#GME #AMC MUST READ🚀\\n\\n(1) There will be a squeeze and a gamma squeeze this month (March). Follow the money/word of mouth. The real catalysts are social... 💎🤚🏼',\n '@MIMI07151966 @MartinDayTrader $GME expect the unexpected',\n \"Funny because I remember myself and other followers NOTIFYING almost like ringing an alarm on an illegal tactics used against us known as Market Manipulation. They didn't do nothing and I don't see you crying about that.\\n\\nGME is worth 100k I said it..per share\\nAMC is worth 10k https://t.co/w0WmFIgee9\",\n \"@DOMOCAPITAL @CGasparino it wasn't an impact to EBITA earnings but impact to balance sheet. Right? the stock price changed the enterprise value.  Revenue and earning were contracting for a long time. #gme today has a $79 revenue per share and this metric brought in @ryancohen as a value investor.\",\n 'Diamond hands moms unite! 💎🙌🏻❤️🤷🏻\\u200d♀️ #GME #DiamondHands #amcstock #gamestonk #wallstreetsbets https://t.co/QVJK2jL3rF',\n 'lol $GME https://t.co/15vGX8OyTf']"
     },
     "metadata": {},
     "execution_count": 22
    }
   ],
   "source": [
    "contents = [\n",
    "    t.content\n",
    "    for t in tweets\n",
    "]\n",
    "contents"
   ]
  },
  {
   "cell_type": "code",
   "execution_count": 26,
   "metadata": {},
   "outputs": [],
   "source": [
    "labels = [\n",
    "    [\n",
    "        1, \n",
    "        clean(\n",
    "            content.replace('\\u2019', '\\'')\n",
    "        )\n",
    "    ]\n",
    "    for content in set(contents)\n",
    "]\n",
    "\n",
    "df = pd.DataFrame(\n",
    "    labels,\n",
    "    columns='label message'.split()\n",
    ")\n",
    "df.to_csv(\n",
    "    'labels.csv', \n",
    "    index=False\n",
    ")"
   ]
  },
  {
   "cell_type": "code",
   "execution_count": 3,
   "metadata": {},
   "outputs": [
    {
     "output_type": "execute_result",
     "data": {
      "text/plain": "        v1                                                 v2\n0      ham  Go until jurong point, crazy.. Available only ...\n1      ham                      Ok lar... Joking wif u oni...\n2     spam  Free entry in 2 a wkly comp to win FA Cup fina...\n3      ham  U dun say so early hor... U c already then say...\n4      ham  Nah I don't think he goes to usf, he lives aro...\n...    ...                                                ...\n5567  spam  This is the 2nd time we have tried 2 contact u...\n5568   ham              Will Ì_ b going to esplanade fr home?\n5569   ham  Pity, * was in mood for that. So...any other s...\n5570   ham  The guy did some bitching but I acted like i'd...\n5571   ham                         Rofl. Its true to its name\n\n[5572 rows x 2 columns]",
      "text/html": "<div>\n<style scoped>\n    .dataframe tbody tr th:only-of-type {\n        vertical-align: middle;\n    }\n\n    .dataframe tbody tr th {\n        vertical-align: top;\n    }\n\n    .dataframe thead th {\n        text-align: right;\n    }\n</style>\n<table border=\"1\" class=\"dataframe\">\n  <thead>\n    <tr style=\"text-align: right;\">\n      <th></th>\n      <th>v1</th>\n      <th>v2</th>\n    </tr>\n  </thead>\n  <tbody>\n    <tr>\n      <th>0</th>\n      <td>ham</td>\n      <td>Go until jurong point, crazy.. Available only ...</td>\n    </tr>\n    <tr>\n      <th>1</th>\n      <td>ham</td>\n      <td>Ok lar... Joking wif u oni...</td>\n    </tr>\n    <tr>\n      <th>2</th>\n      <td>spam</td>\n      <td>Free entry in 2 a wkly comp to win FA Cup fina...</td>\n    </tr>\n    <tr>\n      <th>3</th>\n      <td>ham</td>\n      <td>U dun say so early hor... U c already then say...</td>\n    </tr>\n    <tr>\n      <th>4</th>\n      <td>ham</td>\n      <td>Nah I don't think he goes to usf, he lives aro...</td>\n    </tr>\n    <tr>\n      <th>...</th>\n      <td>...</td>\n      <td>...</td>\n    </tr>\n    <tr>\n      <th>5567</th>\n      <td>spam</td>\n      <td>This is the 2nd time we have tried 2 contact u...</td>\n    </tr>\n    <tr>\n      <th>5568</th>\n      <td>ham</td>\n      <td>Will Ì_ b going to esplanade fr home?</td>\n    </tr>\n    <tr>\n      <th>5569</th>\n      <td>ham</td>\n      <td>Pity, * was in mood for that. So...any other s...</td>\n    </tr>\n    <tr>\n      <th>5570</th>\n      <td>ham</td>\n      <td>The guy did some bitching but I acted like i'd...</td>\n    </tr>\n    <tr>\n      <th>5571</th>\n      <td>ham</td>\n      <td>Rofl. Its true to its name</td>\n    </tr>\n  </tbody>\n</table>\n<p>5572 rows × 2 columns</p>\n</div>"
     },
     "metadata": {},
     "execution_count": 3
    }
   ],
   "source": [
    "df"
   ]
  },
  {
   "cell_type": "code",
   "execution_count": 4,
   "metadata": {
    "tags": []
   },
   "outputs": [
    {
     "output_type": "stream",
     "name": "stdout",
     "text": "precision    recall  f1-score   support\n\n           0       0.99      0.99      0.99      1587\n           1       0.93      0.92      0.92       252\n\n    accuracy                           0.98      1839\n   macro avg       0.96      0.95      0.96      1839\nweighted avg       0.98      0.98      0.98      1839\n\n"
    }
   ],
   "source": [
    "\n",
    "df = pd.read_csv('spam.csv', encoding=\"latin-1\")\n",
    "df.drop(['Unnamed: 2', 'Unnamed: 3', 'Unnamed: 4'], axis=1, inplace=True)\n",
    "df['label'] = df['class'].map({'ham': 0, 'spam': 1})\n",
    "X = df['message']\n",
    "y = df['label']\n",
    "cv = CountVectorizer()\n",
    "X = cv.fit_transform(X) # Fit the Data\n",
    "X_train, X_test, y_train, y_test = train_test_split(X, y, test_size=0.33, random_state=42)\n",
    "#Naive Bayes Classifier\n",
    "clf = MultinomialNB()\n",
    "clf.fit(X_train,y_train)\n",
    "clf.score(X_test,y_test)\n",
    "y_pred = clf.predict(X_test)\n",
    "print(classification_report(y_test, y_pred))"
   ]
  },
  {
   "cell_type": "code",
   "execution_count": 29,
   "metadata": {
    "tags": []
   },
   "outputs": [
    {
     "output_type": "stream",
     "name": "stdout",
     "text": "precision    recall  f1-score   support\n\n        -2.0       0.00      0.00      0.00         3\n         0.0       0.40      0.20      0.27        10\n         1.0       0.00      0.00      0.00         1\n         2.0       0.59      0.83      0.69        12\n\n    accuracy                           0.46        26\n   macro avg       0.25      0.26      0.24        26\nweighted avg       0.43      0.46      0.42        26\n\n"
    }
   ],
   "source": [
    "df = pd.read_csv('labels.csv')\n",
    "X = df['message']\n",
    "y = df['label'] * 2\n",
    "\n",
    "cv = CountVectorizer()\n",
    "X = cv.fit_transform(X) # Fit the Data\n",
    "X_train, X_test, y_train, y_test = train_test_split(X, y, test_size=0.33, random_state=42)\n",
    "\n",
    "#Naive Bayes Classifier\n",
    "clf = MultinomialNB()\n",
    "clf.fit(X_train,y_train)\n",
    "clf.score(X_test,y_test)\n",
    "\n",
    "y_pred = clf.predict(X_test)\n",
    "print(classification_report(y_test, y_pred))"
   ]
  },
  {
   "cell_type": "code",
   "execution_count": 28,
   "metadata": {},
   "outputs": [
    {
     "output_type": "execute_result",
     "data": {
      "text/plain": "    label                                            message\n0     0.0  We have created for you a Dashboard So You Can...\n1     1.0        Who is ready for tomorrow-Squeeze $gme $amc\n2     1.0  Funny because I remember myself and other foll...\n3     1.0  ACCOMPLISH THE MISSION WE WILL THE HF's RAIN F...\n4    -1.0  Same type of people who said $60k $btc and $25...\n..    ...                                                ...\n71    1.0  THE FUTURE IS NOT SET THERE IS NO FATE BUT WHA...\n72    0.0                                It's going down :-)\n73    0.0  It looks like its about as effective as the sh...\n74    1.0  (11 (not religious just an expression) I'll se...\n75    0.0  Freetrade is listing #cbx with no commission G...\n\n[76 rows x 2 columns]",
      "text/html": "<div>\n<style scoped>\n    .dataframe tbody tr th:only-of-type {\n        vertical-align: middle;\n    }\n\n    .dataframe tbody tr th {\n        vertical-align: top;\n    }\n\n    .dataframe thead th {\n        text-align: right;\n    }\n</style>\n<table border=\"1\" class=\"dataframe\">\n  <thead>\n    <tr style=\"text-align: right;\">\n      <th></th>\n      <th>label</th>\n      <th>message</th>\n    </tr>\n  </thead>\n  <tbody>\n    <tr>\n      <th>0</th>\n      <td>0.0</td>\n      <td>We have created for you a Dashboard So You Can...</td>\n    </tr>\n    <tr>\n      <th>1</th>\n      <td>1.0</td>\n      <td>Who is ready for tomorrow-Squeeze $gme $amc</td>\n    </tr>\n    <tr>\n      <th>2</th>\n      <td>1.0</td>\n      <td>Funny because I remember myself and other foll...</td>\n    </tr>\n    <tr>\n      <th>3</th>\n      <td>1.0</td>\n      <td>ACCOMPLISH THE MISSION WE WILL THE HF's RAIN F...</td>\n    </tr>\n    <tr>\n      <th>4</th>\n      <td>-1.0</td>\n      <td>Same type of people who said $60k $btc and $25...</td>\n    </tr>\n    <tr>\n      <th>...</th>\n      <td>...</td>\n      <td>...</td>\n    </tr>\n    <tr>\n      <th>71</th>\n      <td>1.0</td>\n      <td>THE FUTURE IS NOT SET THERE IS NO FATE BUT WHA...</td>\n    </tr>\n    <tr>\n      <th>72</th>\n      <td>0.0</td>\n      <td>It's going down :-)</td>\n    </tr>\n    <tr>\n      <th>73</th>\n      <td>0.0</td>\n      <td>It looks like its about as effective as the sh...</td>\n    </tr>\n    <tr>\n      <th>74</th>\n      <td>1.0</td>\n      <td>(11 (not religious just an expression) I'll se...</td>\n    </tr>\n    <tr>\n      <th>75</th>\n      <td>0.0</td>\n      <td>Freetrade is listing #cbx with no commission G...</td>\n    </tr>\n  </tbody>\n</table>\n<p>76 rows × 2 columns</p>\n</div>"
     },
     "metadata": {},
     "execution_count": 28
    }
   ],
   "source": [
    "df"
   ]
  },
  {
   "cell_type": "code",
   "execution_count": 3,
   "metadata": {},
   "outputs": [
    {
     "output_type": "execute_result",
     "data": {
      "text/plain": "       Unnamed: 0                                              TWEET  \\\n0               0  RT @robertoglezcano: @amazon  #Patents Show Fl...   \n1             NaN                                             Amazon   \n2               1  @FAME95FM1 Jamaicans make money with @Payoneer...   \n3               2  @CBSi Jamaicans make money with @Payoneer @Pay...   \n4               3  @Hitz92fm Jamaicans make money with @Payoneer ...   \n...           ...                                                ...   \n143277     861723  https://t.co/IsS8FGekqH: New Releases - Amazon...   \n143278        NaN                                             Amazon   \n143279     861864  RT @Google: With hands-free ordering from your...   \n143280     862071  Homegate with Lipton® Iced Tea from Walmart th...   \n143281        NaN                                            Walmart   \n\n             STOCK        DATE   LAST_PRICE  1_DAY_RETURN  2_DAY_RETURN  \\\n0              NaN         NaN          NaN           NaN           NaN   \n1       31/01/2017      823.48     0.008379      0.014924      0.014924   \n2           PayPal  31/01/2017    39.780000      0.002011      0.012318   \n3           PayPal  31/01/2017    39.780000      0.002011      0.012318   \n4           PayPal  31/01/2017    39.780000      0.002011      0.012318   \n...            ...         ...          ...           ...           ...   \n143277         NaN         NaN          NaN           NaN           NaN   \n143278  30/09/2018      2003.0     0.000000      0.000000      0.004983   \n143279      Google  30/09/2018  1207.080000      0.000000      0.000000   \n143280         NaN         NaN          NaN           NaN           NaN   \n143281  30/09/2018       93.91     0.000000      0.000000      0.002343   \n\n        3_DAY_RETURN  7_DAY_RETURN    PX_VOLUME  VOLATILITY_10D  \\\n0                NaN           NaN          NaN             NaN   \n1          -0.001263  3.137196e+06       13.447          16.992   \n2           0.012318  5.480141e-02  9100057.000          18.769   \n3           0.012318  5.480141e-02  9100057.000          18.769   \n4           0.012318  5.480141e-02  9100057.000          18.769   \n...              ...           ...          ...             ...   \n143277           NaN           NaN          NaN             NaN   \n143278     -0.043929  4.085135e+06       20.709          22.946   \n143279      0.000232 -2.896245e-02  1780759.000          15.005   \n143280           NaN           NaN          NaN             NaN   \n143281      0.021191  6.306274e+06        8.702          11.667   \n\n        VOLATILITY_30D        LSTM_POLARITY TEXTBLOB_POLARITY  MENTION  \n0                  NaN                  NaN               NaN      NaN  \n1                1.000                  0.0           @amazon      NaN  \n2               16.099                   -1               0.0  @PayPal  \n3               16.099                    1               0.0  @PayPal  \n4               16.099                   -1               0.0  @PayPal  \n...                ...                  ...               ...      ...  \n143277             NaN                  NaN               NaN      NaN  \n143278           1.000  0.13636363636363635           @amazon      NaN  \n143279          17.588                    1               0.0  @Google  \n143280             NaN                  NaN               NaN      NaN  \n143281          -1.000                  0.0          @Walmart      NaN  \n\n[143282 rows x 15 columns]",
      "text/html": "<div>\n<style scoped>\n    .dataframe tbody tr th:only-of-type {\n        vertical-align: middle;\n    }\n\n    .dataframe tbody tr th {\n        vertical-align: top;\n    }\n\n    .dataframe thead th {\n        text-align: right;\n    }\n</style>\n<table border=\"1\" class=\"dataframe\">\n  <thead>\n    <tr style=\"text-align: right;\">\n      <th></th>\n      <th>Unnamed: 0</th>\n      <th>TWEET</th>\n      <th>STOCK</th>\n      <th>DATE</th>\n      <th>LAST_PRICE</th>\n      <th>1_DAY_RETURN</th>\n      <th>2_DAY_RETURN</th>\n      <th>3_DAY_RETURN</th>\n      <th>7_DAY_RETURN</th>\n      <th>PX_VOLUME</th>\n      <th>VOLATILITY_10D</th>\n      <th>VOLATILITY_30D</th>\n      <th>LSTM_POLARITY</th>\n      <th>TEXTBLOB_POLARITY</th>\n      <th>MENTION</th>\n    </tr>\n  </thead>\n  <tbody>\n    <tr>\n      <th>0</th>\n      <td>0</td>\n      <td>RT @robertoglezcano: @amazon  #Patents Show Fl...</td>\n      <td>NaN</td>\n      <td>NaN</td>\n      <td>NaN</td>\n      <td>NaN</td>\n      <td>NaN</td>\n      <td>NaN</td>\n      <td>NaN</td>\n      <td>NaN</td>\n      <td>NaN</td>\n      <td>NaN</td>\n      <td>NaN</td>\n      <td>NaN</td>\n      <td>NaN</td>\n    </tr>\n    <tr>\n      <th>1</th>\n      <td>NaN</td>\n      <td>Amazon</td>\n      <td>31/01/2017</td>\n      <td>823.48</td>\n      <td>0.008379</td>\n      <td>0.014924</td>\n      <td>0.014924</td>\n      <td>-0.001263</td>\n      <td>3.137196e+06</td>\n      <td>13.447</td>\n      <td>16.992</td>\n      <td>1.000</td>\n      <td>0.0</td>\n      <td>@amazon</td>\n      <td>NaN</td>\n    </tr>\n    <tr>\n      <th>2</th>\n      <td>1</td>\n      <td>@FAME95FM1 Jamaicans make money with @Payoneer...</td>\n      <td>PayPal</td>\n      <td>31/01/2017</td>\n      <td>39.780000</td>\n      <td>0.002011</td>\n      <td>0.012318</td>\n      <td>0.012318</td>\n      <td>5.480141e-02</td>\n      <td>9100057.000</td>\n      <td>18.769</td>\n      <td>16.099</td>\n      <td>-1</td>\n      <td>0.0</td>\n      <td>@PayPal</td>\n    </tr>\n    <tr>\n      <th>3</th>\n      <td>2</td>\n      <td>@CBSi Jamaicans make money with @Payoneer @Pay...</td>\n      <td>PayPal</td>\n      <td>31/01/2017</td>\n      <td>39.780000</td>\n      <td>0.002011</td>\n      <td>0.012318</td>\n      <td>0.012318</td>\n      <td>5.480141e-02</td>\n      <td>9100057.000</td>\n      <td>18.769</td>\n      <td>16.099</td>\n      <td>1</td>\n      <td>0.0</td>\n      <td>@PayPal</td>\n    </tr>\n    <tr>\n      <th>4</th>\n      <td>3</td>\n      <td>@Hitz92fm Jamaicans make money with @Payoneer ...</td>\n      <td>PayPal</td>\n      <td>31/01/2017</td>\n      <td>39.780000</td>\n      <td>0.002011</td>\n      <td>0.012318</td>\n      <td>0.012318</td>\n      <td>5.480141e-02</td>\n      <td>9100057.000</td>\n      <td>18.769</td>\n      <td>16.099</td>\n      <td>-1</td>\n      <td>0.0</td>\n      <td>@PayPal</td>\n    </tr>\n    <tr>\n      <th>...</th>\n      <td>...</td>\n      <td>...</td>\n      <td>...</td>\n      <td>...</td>\n      <td>...</td>\n      <td>...</td>\n      <td>...</td>\n      <td>...</td>\n      <td>...</td>\n      <td>...</td>\n      <td>...</td>\n      <td>...</td>\n      <td>...</td>\n      <td>...</td>\n      <td>...</td>\n    </tr>\n    <tr>\n      <th>143277</th>\n      <td>861723</td>\n      <td>https://t.co/IsS8FGekqH: New Releases - Amazon...</td>\n      <td>NaN</td>\n      <td>NaN</td>\n      <td>NaN</td>\n      <td>NaN</td>\n      <td>NaN</td>\n      <td>NaN</td>\n      <td>NaN</td>\n      <td>NaN</td>\n      <td>NaN</td>\n      <td>NaN</td>\n      <td>NaN</td>\n      <td>NaN</td>\n      <td>NaN</td>\n    </tr>\n    <tr>\n      <th>143278</th>\n      <td>NaN</td>\n      <td>Amazon</td>\n      <td>30/09/2018</td>\n      <td>2003.0</td>\n      <td>0.000000</td>\n      <td>0.000000</td>\n      <td>0.004983</td>\n      <td>-0.043929</td>\n      <td>4.085135e+06</td>\n      <td>20.709</td>\n      <td>22.946</td>\n      <td>1.000</td>\n      <td>0.13636363636363635</td>\n      <td>@amazon</td>\n      <td>NaN</td>\n    </tr>\n    <tr>\n      <th>143279</th>\n      <td>861864</td>\n      <td>RT @Google: With hands-free ordering from your...</td>\n      <td>Google</td>\n      <td>30/09/2018</td>\n      <td>1207.080000</td>\n      <td>0.000000</td>\n      <td>0.000000</td>\n      <td>0.000232</td>\n      <td>-2.896245e-02</td>\n      <td>1780759.000</td>\n      <td>15.005</td>\n      <td>17.588</td>\n      <td>1</td>\n      <td>0.0</td>\n      <td>@Google</td>\n    </tr>\n    <tr>\n      <th>143280</th>\n      <td>862071</td>\n      <td>Homegate with Lipton® Iced Tea from Walmart th...</td>\n      <td>NaN</td>\n      <td>NaN</td>\n      <td>NaN</td>\n      <td>NaN</td>\n      <td>NaN</td>\n      <td>NaN</td>\n      <td>NaN</td>\n      <td>NaN</td>\n      <td>NaN</td>\n      <td>NaN</td>\n      <td>NaN</td>\n      <td>NaN</td>\n      <td>NaN</td>\n    </tr>\n    <tr>\n      <th>143281</th>\n      <td>NaN</td>\n      <td>Walmart</td>\n      <td>30/09/2018</td>\n      <td>93.91</td>\n      <td>0.000000</td>\n      <td>0.000000</td>\n      <td>0.002343</td>\n      <td>0.021191</td>\n      <td>6.306274e+06</td>\n      <td>8.702</td>\n      <td>11.667</td>\n      <td>-1.000</td>\n      <td>0.0</td>\n      <td>@Walmart</td>\n      <td>NaN</td>\n    </tr>\n  </tbody>\n</table>\n<p>143282 rows × 15 columns</p>\n</div>"
     },
     "metadata": {},
     "execution_count": 3
    }
   ],
   "source": [
    "cornell = pd.read_csv(\n",
    "    'https://raw.githubusercontent.com/ImperialNLP/stockreturnpred/master/Dataset-release%20version/reduced_dataset-release.csv'\n",
    ")\n",
    "cornell"
   ]
  },
  {
   "cell_type": "code",
   "execution_count": 7,
   "metadata": {},
   "outputs": [
    {
     "output_type": "execute_result",
     "data": {
      "text/plain": "count     85175\nunique      997\ntop           1\nfreq      14805\nName: LSTM_POLARITY, dtype: object"
     },
     "metadata": {},
     "execution_count": 7
    }
   ],
   "source": [
    "cornell.LSTM_POLARITY.astype(float, errors='ignore').describe()"
   ]
  },
  {
   "cell_type": "code",
   "execution_count": 9,
   "metadata": {},
   "outputs": [
    {
     "output_type": "execute_result",
     "data": {
      "text/plain": "       Unnamed: 0   TWEET  STOCK   DATE     LAST_PRICE  1_DAY_RETURN  \\\ncount      124761  143279  85176  85176   85176.000000  85176.000000   \nunique      85278   61030   2696   4260            NaN           NaN   \ntop          Nike    eBay   Nike    0.0            NaN           NaN   \nfreq         8224    3726   3797  10518            NaN           NaN   \nmean          NaN     NaN    NaN    NaN     229.142895      0.004375   \nstd           NaN     NaN    NaN    NaN    3227.736241      0.022527   \nmin           NaN     NaN    NaN    NaN      -0.173554     -0.177851   \n25%           NaN     NaN    NaN    NaN      -0.000414     -0.005989   \n50%           NaN     NaN    NaN    NaN       0.009971      0.001119   \n75%           NaN     NaN    NaN    NaN      49.972500      0.013603   \nmax           NaN     NaN    NaN    NaN  165500.000000      0.243639   \n\n        2_DAY_RETURN  3_DAY_RETURN  7_DAY_RETURN     PX_VOLUME  \\\ncount   85176.000000  8.517600e+04  8.517600e+04  8.517600e+04   \nunique           NaN           NaN           NaN           NaN   \ntop              NaN           NaN           NaN           NaN   \nfreq             NaN           NaN           NaN           NaN   \nmean        0.007293  5.891352e+06  2.020673e+06  4.094358e+06   \nstd         0.032164  1.103918e+07  6.446903e+06  1.036332e+07   \nmin        -0.204959 -1.778512e-01 -2.049587e-01  1.000000e+00   \n25%        -0.009848  0.000000e+00  3.386809e-02  1.715200e+01   \n50%         0.003162  3.743719e-02  2.051700e+01  2.407800e+01   \n75%         0.022654  7.943443e+06  5.266800e+01  2.628128e+06   \nmax         0.267113  3.081068e+08  1.439475e+08  1.698037e+08   \n\n        VOLATILITY_10D  VOLATILITY_30D LSTM_POLARITY TEXTBLOB_POLARITY MENTION  \ncount     85171.000000    85165.000000         85175             45594   27073  \nunique             NaN             NaN           997              1406     100  \ntop                NaN             NaN             1               0.0   @Nike  \nfreq               NaN             NaN         14805              7878    3787  \nmean         11.883457        7.146620           NaN               NaN     NaN  \nstd          14.389947       12.050566           NaN               NaN     NaN  \nmin          -1.000000       -1.000000           NaN               NaN     NaN  \n25%           1.000000        0.000000           NaN               NaN     NaN  \n50%           9.482000        0.300000           NaN               NaN     NaN  \n75%          20.289000       16.026000           NaN               NaN     NaN  \nmax         124.137000       74.355000           NaN               NaN     NaN  ",
      "text/html": "<div>\n<style scoped>\n    .dataframe tbody tr th:only-of-type {\n        vertical-align: middle;\n    }\n\n    .dataframe tbody tr th {\n        vertical-align: top;\n    }\n\n    .dataframe thead th {\n        text-align: right;\n    }\n</style>\n<table border=\"1\" class=\"dataframe\">\n  <thead>\n    <tr style=\"text-align: right;\">\n      <th></th>\n      <th>Unnamed: 0</th>\n      <th>TWEET</th>\n      <th>STOCK</th>\n      <th>DATE</th>\n      <th>LAST_PRICE</th>\n      <th>1_DAY_RETURN</th>\n      <th>2_DAY_RETURN</th>\n      <th>3_DAY_RETURN</th>\n      <th>7_DAY_RETURN</th>\n      <th>PX_VOLUME</th>\n      <th>VOLATILITY_10D</th>\n      <th>VOLATILITY_30D</th>\n      <th>LSTM_POLARITY</th>\n      <th>TEXTBLOB_POLARITY</th>\n      <th>MENTION</th>\n    </tr>\n  </thead>\n  <tbody>\n    <tr>\n      <th>count</th>\n      <td>124761</td>\n      <td>143279</td>\n      <td>85176</td>\n      <td>85176</td>\n      <td>85176.000000</td>\n      <td>85176.000000</td>\n      <td>85176.000000</td>\n      <td>8.517600e+04</td>\n      <td>8.517600e+04</td>\n      <td>8.517600e+04</td>\n      <td>85171.000000</td>\n      <td>85165.000000</td>\n      <td>85175</td>\n      <td>45594</td>\n      <td>27073</td>\n    </tr>\n    <tr>\n      <th>unique</th>\n      <td>85278</td>\n      <td>61030</td>\n      <td>2696</td>\n      <td>4260</td>\n      <td>NaN</td>\n      <td>NaN</td>\n      <td>NaN</td>\n      <td>NaN</td>\n      <td>NaN</td>\n      <td>NaN</td>\n      <td>NaN</td>\n      <td>NaN</td>\n      <td>997</td>\n      <td>1406</td>\n      <td>100</td>\n    </tr>\n    <tr>\n      <th>top</th>\n      <td>Nike</td>\n      <td>eBay</td>\n      <td>Nike</td>\n      <td>0.0</td>\n      <td>NaN</td>\n      <td>NaN</td>\n      <td>NaN</td>\n      <td>NaN</td>\n      <td>NaN</td>\n      <td>NaN</td>\n      <td>NaN</td>\n      <td>NaN</td>\n      <td>1</td>\n      <td>0.0</td>\n      <td>@Nike</td>\n    </tr>\n    <tr>\n      <th>freq</th>\n      <td>8224</td>\n      <td>3726</td>\n      <td>3797</td>\n      <td>10518</td>\n      <td>NaN</td>\n      <td>NaN</td>\n      <td>NaN</td>\n      <td>NaN</td>\n      <td>NaN</td>\n      <td>NaN</td>\n      <td>NaN</td>\n      <td>NaN</td>\n      <td>14805</td>\n      <td>7878</td>\n      <td>3787</td>\n    </tr>\n    <tr>\n      <th>mean</th>\n      <td>NaN</td>\n      <td>NaN</td>\n      <td>NaN</td>\n      <td>NaN</td>\n      <td>229.142895</td>\n      <td>0.004375</td>\n      <td>0.007293</td>\n      <td>5.891352e+06</td>\n      <td>2.020673e+06</td>\n      <td>4.094358e+06</td>\n      <td>11.883457</td>\n      <td>7.146620</td>\n      <td>NaN</td>\n      <td>NaN</td>\n      <td>NaN</td>\n    </tr>\n    <tr>\n      <th>std</th>\n      <td>NaN</td>\n      <td>NaN</td>\n      <td>NaN</td>\n      <td>NaN</td>\n      <td>3227.736241</td>\n      <td>0.022527</td>\n      <td>0.032164</td>\n      <td>1.103918e+07</td>\n      <td>6.446903e+06</td>\n      <td>1.036332e+07</td>\n      <td>14.389947</td>\n      <td>12.050566</td>\n      <td>NaN</td>\n      <td>NaN</td>\n      <td>NaN</td>\n    </tr>\n    <tr>\n      <th>min</th>\n      <td>NaN</td>\n      <td>NaN</td>\n      <td>NaN</td>\n      <td>NaN</td>\n      <td>-0.173554</td>\n      <td>-0.177851</td>\n      <td>-0.204959</td>\n      <td>-1.778512e-01</td>\n      <td>-2.049587e-01</td>\n      <td>1.000000e+00</td>\n      <td>-1.000000</td>\n      <td>-1.000000</td>\n      <td>NaN</td>\n      <td>NaN</td>\n      <td>NaN</td>\n    </tr>\n    <tr>\n      <th>25%</th>\n      <td>NaN</td>\n      <td>NaN</td>\n      <td>NaN</td>\n      <td>NaN</td>\n      <td>-0.000414</td>\n      <td>-0.005989</td>\n      <td>-0.009848</td>\n      <td>0.000000e+00</td>\n      <td>3.386809e-02</td>\n      <td>1.715200e+01</td>\n      <td>1.000000</td>\n      <td>0.000000</td>\n      <td>NaN</td>\n      <td>NaN</td>\n      <td>NaN</td>\n    </tr>\n    <tr>\n      <th>50%</th>\n      <td>NaN</td>\n      <td>NaN</td>\n      <td>NaN</td>\n      <td>NaN</td>\n      <td>0.009971</td>\n      <td>0.001119</td>\n      <td>0.003162</td>\n      <td>3.743719e-02</td>\n      <td>2.051700e+01</td>\n      <td>2.407800e+01</td>\n      <td>9.482000</td>\n      <td>0.300000</td>\n      <td>NaN</td>\n      <td>NaN</td>\n      <td>NaN</td>\n    </tr>\n    <tr>\n      <th>75%</th>\n      <td>NaN</td>\n      <td>NaN</td>\n      <td>NaN</td>\n      <td>NaN</td>\n      <td>49.972500</td>\n      <td>0.013603</td>\n      <td>0.022654</td>\n      <td>7.943443e+06</td>\n      <td>5.266800e+01</td>\n      <td>2.628128e+06</td>\n      <td>20.289000</td>\n      <td>16.026000</td>\n      <td>NaN</td>\n      <td>NaN</td>\n      <td>NaN</td>\n    </tr>\n    <tr>\n      <th>max</th>\n      <td>NaN</td>\n      <td>NaN</td>\n      <td>NaN</td>\n      <td>NaN</td>\n      <td>165500.000000</td>\n      <td>0.243639</td>\n      <td>0.267113</td>\n      <td>3.081068e+08</td>\n      <td>1.439475e+08</td>\n      <td>1.698037e+08</td>\n      <td>124.137000</td>\n      <td>74.355000</td>\n      <td>NaN</td>\n      <td>NaN</td>\n      <td>NaN</td>\n    </tr>\n  </tbody>\n</table>\n</div>"
     },
     "metadata": {},
     "execution_count": 9
    }
   ],
   "source": [
    "cornell.describe(include='all')"
   ]
  },
  {
   "cell_type": "code",
   "execution_count": 4,
   "metadata": {},
   "outputs": [],
   "source": [
    "cornell[\n",
    "    [\n",
    "        'LSTM_POLARITY', 'TEXTBLOB_POLARITY', 'TWEET'\n",
    "    ]\n",
    "].sample(\n",
    "    n=99\n",
    ").to_csv(\n",
    "    'cornell.csv',\n",
    "    index=False\n",
    ")"
   ]
  },
  {
   "cell_type": "code",
   "execution_count": 6,
   "metadata": {},
   "outputs": [
    {
     "output_type": "execute_result",
     "data": {
      "text/plain": "146"
     },
     "metadata": {},
     "execution_count": 6
    }
   ],
   "source": [
    "with open('cornell.csv') as f:\n",
    "    lines = [1 for line in f]\n",
    "len(lines)"
   ]
  },
  {
   "cell_type": "code",
   "execution_count": null,
   "metadata": {},
   "outputs": [],
   "source": []
  }
 ]
}