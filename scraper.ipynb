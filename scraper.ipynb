{
 "metadata": {
  "language_info": {
   "codemirror_mode": {
    "name": "ipython",
    "version": 3
   },
   "file_extension": ".py",
   "mimetype": "text/x-python",
   "name": "python",
   "nbconvert_exporter": "python",
   "pygments_lexer": "ipython3",
   "version": "3.8.8-final"
  },
  "orig_nbformat": 2,
  "kernelspec": {
   "name": "python38864bit388pyenv6e0dd8c907e74142b8d96ceab1da1a28",
   "display_name": "Python 3.8.8 64-bit ('3.8.8': pyenv)"
  }
 },
 "nbformat": 4,
 "nbformat_minor": 2,
 "cells": [
  {
   "cell_type": "code",
   "execution_count": 2,
   "metadata": {
    "tags": []
   },
   "outputs": [],
   "source": [
    "from snscrape.modules.twitter import *"
   ]
  },
  {
   "cell_type": "code",
   "execution_count": 4,
   "metadata": {},
   "outputs": [],
   "source": [
    "from textblob import TextBlob\n",
    "\n",
    "def clean(tweet): \n",
    "    ''' \n",
    "    Utility function to clean tweet text by removing links, special characters \n",
    "    using simple regex statements. \n",
    "    '''\n",
    "    return ' '.join(re.sub(\"(@[A-Za-z0-9]+)|([^0-9A-Za-z \\t]) |(\\w+:\\/\\/\\S+)\", \" \", tweet).split()) \n",
    "\n",
    "def senti(tweet): \n",
    "    ''' \n",
    "    Utility function to classify sentiment of passed tweet \n",
    "    using textblob's sentiment method \n",
    "    '''\n",
    "    # create TextBlob object of passed tweet text \n",
    "    analysis = TextBlob(clean_tweet(tweet)) \n",
    "    # set sentiment \n",
    "    return analysis.sentiment.polarity"
   ]
  },
  {
   "cell_type": "code",
   "execution_count": 3,
   "metadata": {},
   "outputs": [
    {
     "output_type": "execute_result",
     "data": {
      "text/plain": "[Tweet(url='https://twitter.com/SupplyChainBlog/status/1366108205563211791', date=datetime.datetime(2021, 2, 28, 19, 29, 11, tzinfo=datetime.timezone.utc), content='VIDEO: Why Elon Musk Accelerated Tesla Semi Truck Production. https://t.co/dSRFbYRBDM #TSLA #Semi #trucking #logistics #OTR #18wheeler #semitruck #logistics #supplychain #gigafactory #lithium #battery #transportation #hauling #strategy', id=1366108205563211791, username='SupplyChainBlog', outlinks=['https://www.supplychaintoday.com/why-elon-musk-accelerated-tesla-semi-truck-production/'], outlinksss='https://www.supplychaintoday.com/why-elon-musk-accelerated-tesla-semi-truck-production/', tcooutlinks=['https://t.co/dSRFbYRBDM'], tcooutlinksss='https://t.co/dSRFbYRBDM'),\n Tweet(url='https://twitter.com/FCoy69/status/1366104522595192836', date=datetime.datetime(2021, 2, 28, 19, 14, 33, tzinfo=datetime.timezone.utc), content='@subaru_usa Make EV. Thanks. #ev #tsla #bolt #dogecoin #doge #subaru', id=1366104522595192836, username='FCoy69', outlinks=[], outlinksss='', tcooutlinks=[], tcooutlinksss=''),\n Tweet(url='https://twitter.com/MariaWr79116841/status/1366102690946838528', date=datetime.datetime(2021, 2, 28, 19, 7, 17, tzinfo=datetime.timezone.utc), content='I never miss opportunities!\\n\\n#forex #money #job #business #jobs  #news #fx #stocks #trading #casino #investing #markets #poker #fintech #trade #Banking #gold #investment #marketing #market #blockchain #invest #StockMarket #Finance #elonmusk #SpaceX #tesla #tsla #altcoins https://t.co/ulmp3mIe7K', id=1366102690946838528, username='MariaWr79116841', outlinks=[], outlinksss='', tcooutlinks=[], tcooutlinksss=''),\n Tweet(url='https://twitter.com/KeuTip/status/1366100099881963520', date=datetime.datetime(2021, 2, 28, 18, 56, 59, tzinfo=datetime.timezone.utc), content='Anyone else concerned about this? Or does Europe no longer matter?\\n$TSLA #tslaq #tsla #BTC https://t.co/dhOGllpvUz', id=1366100099881963520, username='KeuTip', outlinks=[], outlinksss='', tcooutlinks=[], tcooutlinksss=''),\n Tweet(url='https://twitter.com/MariaWr79116841/status/1366099187671130121', date=datetime.datetime(2021, 2, 28, 18, 53, 21, tzinfo=datetime.timezone.utc), content='Great wins on a great day!\\n\\n#BTC #Bitcoin #Crypto #Cryptocurrency #Pi #PiNetwork #BlockChain #Forex #Fx #Trading #StockMarket #Stocks #SP500 #DayTrading #CedarForex #CedarFX #Trader #XRP #ETH #Robinhood #WeBull #CashApp #Investor #investment #Tsla #tesla $Tsla https://t.co/UDUODCblEv', id=1366099187671130121, username='MariaWr79116841', outlinks=[], outlinksss='', tcooutlinks=[], tcooutlinksss=''),\n Tweet(url='https://twitter.com/MariaWr79116841/status/1366098679606697985', date=datetime.datetime(2021, 2, 28, 18, 51, 20, tzinfo=datetime.timezone.utc), content='There is a great opportunity here, use it!\\n\\n#AAPL #MSFT #AMZN #GOOGL #TCEHY #FB #BABA #TSLA #TSM #JPM #JNJ #WMT #DIS #NVDA #SPY #PG #UNH #PYPL #BAC #NFLX #XOM #MA #TOT #RTX #GOLD #SILVER #USD #EURO https://t.co/UzFsIZD7oE', id=1366098679606697985, username='MariaWr79116841', outlinks=[], outlinksss='', tcooutlinks=[], tcooutlinksss=''),\n Tweet(url='https://twitter.com/MariaWr79116841/status/1366098597310328833', date=datetime.datetime(2021, 2, 28, 18, 51, 1, tzinfo=datetime.timezone.utc), content='great opportunity for everyone!\\n#FAANG #AAPL #MSFT #AMZN #FB #GOOG #TSLA #NVDA #NFLX #BABA #Apple #Microsoft #Amazon #Facebook #Alphabet #Tesla #NVIDIA #Netflix #Alibaba https://t.co/80KKlmsyNb', id=1366098597310328833, username='MariaWr79116841', outlinks=[], outlinksss='', tcooutlinks=[], tcooutlinksss=''),\n Tweet(url='https://twitter.com/indusraven/status/1366094913411055618', date=datetime.datetime(2021, 2, 28, 18, 36, 22, tzinfo=datetime.timezone.utc), content='#TSLA + $Doge = Early Retirement', id=1366094913411055618, username='indusraven', outlinks=[], outlinksss='', tcooutlinks=[], tcooutlinksss=''),\n Tweet(url='https://twitter.com/solotraveler18/status/1366091013874475009', date=datetime.datetime(2021, 2, 28, 18, 20, 53, tzinfo=datetime.timezone.utc), content='About 15% of the world GDP created by US consumer. What will Americans will buy first in next 6 month? Except houses almost everything will effect international trades. Who will supply the American upcoming spending tsunami? #TSLA #Gold #inflation \\nhttps://t.co/VDlvQmsOVe', id=1366091013874475009, username='solotraveler18', outlinks=['https://www.wsj.com/articles/consumer-spending-personal-income-january-2021-11614293378'], outlinksss='https://www.wsj.com/articles/consumer-spending-personal-income-january-2021-11614293378', tcooutlinks=['https://t.co/VDlvQmsOVe'], tcooutlinksss='https://t.co/VDlvQmsOVe')]"
     },
     "metadata": {},
     "execution_count": 3
    }
   ],
   "source": [
    "func = TwitterHashtagScraper\n",
    "query = 'tsla'\n",
    "\n",
    "gen = func(query).get_items()\n",
    "\n",
    "tweets = [\n",
    "    next(\n",
    "        gen\n",
    "    ) for i in range(9)\n",
    "]\n",
    "tweets"
   ]
  },
  {
   "cell_type": "code",
   "execution_count": 7,
   "metadata": {},
   "outputs": [
    {
     "output_type": "execute_result",
     "data": {
      "text/plain": "{'url': 'https://twitter.com/jack/status/1365083296414113792',\n 'date': datetime.datetime(2021, 2, 25, 23, 36, 34, tzinfo=datetime.timezone.utc),\n 'content': 'Bitcoin, Blockchain and the Black Community - CoinDesk https://t.co/3KH6W7Rg0Q',\n 'id': 1365083296414113792,\n 'username': 'jack',\n 'outlinks': ['https://www.coindesk.com/tv/community-crypto/community-crypto-feb-25-2021-20210223'],\n 'outlinksss': 'https://www.coindesk.com/tv/community-crypto/community-crypto-feb-25-2021-20210223',\n 'tcooutlinks': ['https://t.co/3KH6W7Rg0Q'],\n 'tcooutlinksss': 'https://t.co/3KH6W7Rg0Q'}"
     },
     "metadata": {},
     "execution_count": 7
    }
   ],
   "source": [
    "keys = 'url date content id username outlinks outlinksss tcooutlinks tcooutlinksss'.split()\n",
    "t = tweets[0]\n",
    "\n",
    "dict(zip(keys, list(t)))"
   ]
  },
  {
   "cell_type": "code",
   "execution_count": 5,
   "metadata": {},
   "outputs": [
    {
     "output_type": "execute_result",
     "data": {
      "text/plain": "['VIDEO Why Elon Musk Accelerated Tesla Semi Truck Production #TSLA #Semi #trucking #logistics #OTR #18wheeler #semitruck #logistics #supplychain #gigafactory #lithium #battery #transportation #hauling #strategy',\n '_usa Make EV Thanks #ev #tsla #bolt #dogecoin #doge #subaru',\n 'I never miss opportunities! #forex #money #job #business #jobs #news #fx #stocks #trading #casino #investing #markets #poker #fintech #trade #Banking #gold #investment #marketing #market #blockchain #invest #StockMarket #Finance #elonmusk #SpaceX #tesla #tsla #altcoins',\n 'Anyone else concerned about this Or does Europe no longer matter? $TSLA #tslaq #tsla #BTC',\n 'Great wins on a great day! #BTC #Bitcoin #Crypto #Cryptocurrency #Pi #PiNetwork #BlockChain #Forex #Fx #Trading #StockMarket #Stocks #SP500 #DayTrading #CedarForex #CedarFX #Trader #XRP #ETH #Robinhood #WeBull #CashApp #Investor #investment #Tsla #tesla $Tsla',\n 'There is a great opportunity here use it! #AAPL #MSFT #AMZN #GOOGL #TCEHY #FB #BABA #TSLA #TSM #JPM #JNJ #WMT #DIS #NVDA #SPY #PG #UNH #PYPL #BAC #NFLX #XOM #MA #TOT #RTX #GOLD #SILVER #USD #EURO',\n 'great opportunity for everyone! #FAANG #AAPL #MSFT #AMZN #FB #GOOG #TSLA #NVDA #NFLX #BABA #Apple #Microsoft #Amazon #Facebook #Alphabet #Tesla #NVIDIA #Netflix #Alibaba',\n '#TSLA $Doge Early Retirement',\n 'About 15 of the world GDP created by US consumer What will Americans will buy first in next 6 month Except houses almost everything will effect international trades Who will supply the American upcoming spending tsunami #TSLA #Gold #inflation']"
     },
     "metadata": {},
     "execution_count": 5
    }
   ],
   "source": [
    "contents = [\n",
    "    clean(t.content)\n",
    "    for t in tweets\n",
    "]\n",
    "contents"
   ]
  },
  {
   "cell_type": "code",
   "execution_count": null,
   "metadata": {},
   "outputs": [],
   "source": []
  }
 ]
}