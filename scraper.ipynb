{
 "metadata": {
  "language_info": {
   "codemirror_mode": {
    "name": "ipython",
    "version": 3
   },
   "file_extension": ".py",
   "mimetype": "text/x-python",
   "name": "python",
   "nbconvert_exporter": "python",
   "pygments_lexer": "ipython3",
   "version": "3.8.8-final"
  },
  "orig_nbformat": 2,
  "kernelspec": {
   "name": "python38864bitf7ea053dc3fb4e098c7b685f10305d24",
   "display_name": "Python 3.8.8 64-bit"
  }
 },
 "nbformat": 4,
 "nbformat_minor": 2,
 "cells": [
  {
   "cell_type": "code",
   "execution_count": 6,
   "metadata": {
    "tags": []
   },
   "outputs": [],
   "source": [
    "from snscrape.modules.twitter import *\n",
    "\n",
    "import pandas as pd\n",
    "import numpy as np\n",
    "\n",
    "from sklearn.feature_extraction.text import CountVectorizer\n",
    "from sklearn.model_selection import train_test_split\n",
    "from sklearn.naive_bayes import MultinomialNB\n",
    "from sklearn.metrics import classification_report\n",
    "\n",
    "import nltk\n",
    "from textblob import TextBlob\n"
   ]
  },
  {
   "cell_type": "code",
   "execution_count": 19,
   "metadata": {},
   "outputs": [
    {
     "output_type": "execute_result",
     "data": {
      "text/plain": "{'neg': 0.0, 'neu': 0.295, 'pos': 0.705, 'compound': 0.8012}"
     },
     "metadata": {},
     "execution_count": 19
    }
   ],
   "source": [
    "from nltk.sentiment import SentimentIntensityAnalyzer\n",
    "sia = SentimentIntensityAnalyzer()\n",
    "sia.polarity_scores(\"Wow, NLTK is really powerful!\")"
   ]
  },
  {
   "cell_type": "code",
   "execution_count": 23,
   "metadata": {
    "tags": []
   },
   "outputs": [
    {
     "output_type": "stream",
     "name": "stderr",
     "text": "[nltk_data] Downloading package punkt to /home/gitpod/nltk_data...\n[nltk_data]   Unzipping tokenizers/punkt.zip.\n"
    },
    {
     "output_type": "execute_result",
     "data": {
      "text/plain": "True"
     },
     "metadata": {},
     "execution_count": 23
    }
   ],
   "source": [
    "import nltk\n",
    "nltk.download()"
   ]
  },
  {
   "cell_type": "code",
   "execution_count": 12,
   "metadata": {
    "tags": []
   },
   "outputs": [],
   "source": [
    "scrape = TwitterSearchScraper\n",
    "query = 'pypl'\n",
    "\n",
    "gen = scrape(query + ' lang:en').get_items()\n",
    "\n",
    "tweets = [\n",
    "    next(\n",
    "        gen\n",
    "    ) for i in range(99)\n",
    "]"
   ]
  },
  {
   "cell_type": "code",
   "execution_count": null,
   "metadata": {},
   "outputs": [],
   "source": [
    "keys = 'url date content id username outlinks outlinksss tcooutlinks tcooutlinksss'.split()\n",
    "\n",
    "[\n",
    "    dict(zip(keys, list(t)))\n",
    "    for t in tweets\n",
    "]"
   ]
  },
  {
   "cell_type": "code",
   "execution_count": 24,
   "metadata": {},
   "outputs": [],
   "source": [
    "tkn = nltk.TweetTokenizer(preserve_case=False, strip_handles=True)\n",
    "\n",
    "cleaned = [\n",
    "    ' '.join(\n",
    "        tkn.tokenize(t.content)\n",
    "    )\n",
    "    for t in tweets[:]\n",
    "]\n",
    "\n",
    "rated = [\n",
    "    [\n",
    "        TextBlob(t).sentiment.polarity,\n",
    "        sia.polarity_scores(t)['compound'],\n",
    "        t\n",
    "    ]\n",
    "    for t in cleaned\n",
    "]\n",
    "\n",
    "pd.DataFrame(\n",
    "    rated,\n",
    "    columns='textblob vader tweet'.split()\n",
    ").to_csv(\n",
    "    'labels.csv',\n",
    "    index=False\n",
    ")\n"
   ]
  },
  {
   "cell_type": "code",
   "execution_count": null,
   "metadata": {},
   "outputs": [],
   "source": [
    "labels = [\n",
    "    [\n",
    "        1, \n",
    "        clean(\n",
    "            content.replace('\\u2019', '\\'')\n",
    "        )\n",
    "    ]\n",
    "    for content in set(contents)\n",
    "]\n",
    "\n",
    "df = pd.DataFrame(\n",
    "    labels,\n",
    "    columns='label message'.split()\n",
    ")\n",
    "df.to_csv(\n",
    "    'labels.csv', \n",
    "    index=False\n",
    ")"
   ]
  },
  {
   "cell_type": "code",
   "execution_count": null,
   "metadata": {},
   "outputs": [],
   "source": [
    "df"
   ]
  },
  {
   "cell_type": "code",
   "execution_count": null,
   "metadata": {
    "tags": []
   },
   "outputs": [],
   "source": [
    "\n",
    "df = pd.read_csv('spam.csv', encoding=\"latin-1\")\n",
    "df.drop(['Unnamed: 2', 'Unnamed: 3', 'Unnamed: 4'], axis=1, inplace=True)\n",
    "df['label'] = df['class'].map({'ham': 0, 'spam': 1})\n",
    "X = df['message']\n",
    "y = df['label']\n",
    "cv = CountVectorizer()\n",
    "X = cv.fit_transform(X) # Fit the Data\n",
    "X_train, X_test, y_train, y_test = train_test_split(X, y, test_size=0.33, random_state=42)\n",
    "#Naive Bayes Classifier\n",
    "clf = MultinomialNB()\n",
    "clf.fit(X_train,y_train)\n",
    "clf.score(X_test,y_test)\n",
    "y_pred = clf.predict(X_test)\n",
    "print(classification_report(y_test, y_pred))"
   ]
  },
  {
   "cell_type": "code",
   "execution_count": null,
   "metadata": {
    "tags": []
   },
   "outputs": [],
   "source": [
    "df = pd.read_csv('labels.csv')\n",
    "X = df['message']\n",
    "y = df['label'] * 2\n",
    "\n",
    "cv = CountVectorizer()\n",
    "X = cv.fit_transform(X) # Fit the Data\n",
    "X_train, X_test, y_train, y_test = train_test_split(X, y, test_size=0.33, random_state=42)\n",
    "\n",
    "#Naive Bayes Classifier\n",
    "clf = MultinomialNB()\n",
    "clf.fit(X_train,y_train)\n",
    "clf.score(X_test,y_test)\n",
    "\n",
    "y_pred = clf.predict(X_test)\n",
    "print(classification_report(y_test, y_pred))"
   ]
  },
  {
   "cell_type": "code",
   "execution_count": null,
   "metadata": {},
   "outputs": [],
   "source": [
    "df"
   ]
  },
  {
   "cell_type": "code",
   "execution_count": null,
   "metadata": {},
   "outputs": [],
   "source": [
    "cornell = pd.read_csv(\n",
    "    'https://raw.githubusercontent.com/ImperialNLP/stockreturnpred/master/Dataset-release%20version/reduced_dataset-release.csv'\n",
    ")\n",
    "cornell"
   ]
  },
  {
   "cell_type": "code",
   "execution_count": null,
   "metadata": {},
   "outputs": [],
   "source": [
    "cornell[\n",
    "    [\n",
    "        'LSTM_POLARITY', 'TEXTBLOB_POLARITY', 'TWEET'\n",
    "    ]\n",
    "].sample(\n",
    "    n=99\n",
    ").to_csv(\n",
    "    'cornell.csv',\n",
    "    index=False\n",
    ")"
   ]
  },
  {
   "cell_type": "code",
   "execution_count": null,
   "metadata": {},
   "outputs": [],
   "source": [
    "with open('cornell.csv') as f:\n",
    "    lines = [1 for line in f]\n",
    "len(lines)"
   ]
  },
  {
   "cell_type": "code",
   "execution_count": null,
   "metadata": {},
   "outputs": [],
   "source": []
  }
 ]
}